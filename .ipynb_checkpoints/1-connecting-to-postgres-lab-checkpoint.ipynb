{
 "cells": [
  {
   "cell_type": "markdown",
   "metadata": {},
   "source": [
    "# Connecting to Postgres Lab"
   ]
  },
  {
   "cell_type": "markdown",
   "metadata": {},
   "source": [
    "### Introduction"
   ]
  },
  {
   "cell_type": "markdown",
   "metadata": {},
   "source": [
    "In this lesson, we'll setup an RDS instance and use it to serve as the database for our foursquare flask api.  Let's get started."
   ]
  },
  {
   "cell_type": "markdown",
   "metadata": {},
   "source": [
    "### Setting it up"
   ]
  },
  {
   "cell_type": "markdown",
   "metadata": {},
   "source": [
    "* We should begin by going to the AWS console, finding the RDS service, and creating a new database.  \n",
    "* Then select the postgres database, and the free tier.\n",
    "* From here, it's time to add in the settings for the database.  Choose an instance identifier of `foursquare-flask-api`.  And set a master username and password.  \n",
    "\n",
    "> **Note**: Make sure to write down these values as we'll need them to connect to our database later."
   ]
  },
  {
   "cell_type": "markdown",
   "metadata": {},
   "source": [
    "* Then, under connectivity make sure that there is public access to the database.  \n",
    "\n",
    "> This will allow us to access the database with just the ip address, username, and password.\n"
   ]
  },
  {
   "cell_type": "markdown",
   "metadata": {},
   "source": [
    "* After checking that the configuration is correct, create the database."
   ]
  },
  {
   "cell_type": "markdown",
   "metadata": {},
   "source": [
    "### Checking our Work"
   ]
  },
  {
   "cell_type": "markdown",
   "metadata": {},
   "source": [
    "Go to the dashboard and click on the foursquare-flask-api.  While it is still just creating, we will be able to see the settings of the database instance."
   ]
  },
  {
   "cell_type": "markdown",
   "metadata": {},
   "source": [
    "<img src=\"./foursquare_flask_api.png\" width=\"100%\">"
   ]
  },
  {
   "cell_type": "markdown",
   "metadata": {},
   "source": [
    "If we click on it, we'll see the following."
   ]
  },
  {
   "cell_type": "markdown",
   "metadata": {},
   "source": [
    "<img src=\"./foursquare_api.png\" width=\"100%\">"
   ]
  },
  {
   "cell_type": "markdown",
   "metadata": {},
   "source": [
    "* **Make sure** you also check the security group associated with the database.  Confirm that there is public access on port 5432.  Please do that now."
   ]
  },
  {
   "cell_type": "markdown",
   "metadata": {},
   "source": [
    "### Connecting to our instance"
   ]
  },
  {
   "cell_type": "markdown",
   "metadata": {},
   "source": [
    "Now let's connect to our instance and create a database called `foursquare_production`.\n",
    "\n",
    "Once connected, listing the databases and we should see the following."
   ]
  },
  {
   "cell_type": "markdown",
   "metadata": {},
   "source": [
    "<img src='./listing_databases.png' width=\"80%\">"
   ]
  },
  {
   "cell_type": "markdown",
   "metadata": {},
   "source": [
    "From there, we can run migrations to create the production tables.  \n",
    "\n",
    "> We can use the same `psql` command we normally do to run migrations, just this time specify a `--host` parameter along with the file, and the database with `-d`.  The host parameter will be the public ip address for the database."
   ]
  },
  {
   "cell_type": "markdown",
   "metadata": {},
   "source": [
    "If you run the following from the shell, filling in the value for the host, you can check that the tables were created."
   ]
  },
  {
   "cell_type": "markdown",
   "metadata": {},
   "source": [
    "`psql -U postgres -d foursquare_production --host=specify_host -c \"\\dt\"`"
   ]
  },
  {
   "cell_type": "markdown",
   "metadata": {},
   "source": [
    "<img src=\"./view_relations.png\" width=\"60%\">"
   ]
  },
  {
   "cell_type": "markdown",
   "metadata": {},
   "source": [
    "### Connecting our Application"
   ]
  },
  {
   "cell_type": "markdown",
   "metadata": {},
   "source": [
    "Ok, now let's connect our flask application to our production database.  We'll do this in two steps.  First, we'll first make the change locally and check that it's working.  And then we'll apply the change to our Flask API running on the EC2 instance.\n",
    "\n",
    "1. Making the Change Locally\n",
    "\n",
    "To connect our local flask application to the production database.  We need to change our environmental variables.  Remember that our environmental variables are stored in the `.env` file.  We can change those values locally, and run our application locally to that we are connected to the RDS instance."
   ]
  },
  {
   "cell_type": "markdown",
   "metadata": {},
   "source": [
    "> Run the application using a port of `0.0.0.0`."
   ]
  },
  {
   "cell_type": "markdown",
   "metadata": {},
   "source": [
    "> If you visit the venues resource, we should see the following.  \n",
    "\n",
    "> **Note** Instead of a url of `0.0.0.0/venues`, you can also visit `http://127.0.0.1:5000/venues`."
   ]
  },
  {
   "cell_type": "markdown",
   "metadata": {},
   "source": [
    "<img src=\"./venues.png\" width=\"80%\">"
   ]
  },
  {
   "cell_type": "markdown",
   "metadata": {},
   "source": [
    "This is great, as we are now connected to our database on AWS."
   ]
  },
  {
   "cell_type": "markdown",
   "metadata": {},
   "source": [
    "* A closer examination\n",
    "\n",
    "Before moving on, it's good to make sure you understand how this works.\n",
    "\n",
    "If you look at the db.py file, you will see the following.\n",
    "\n",
    "```python\n",
    "from settings import DB_HOST, DB_NAME, DB_PASSWORD, DB_USER, DEBUG, TESTING\n",
    "\n",
    "conn = psycopg2.connect(host = DB_HOST, database = DB_NAME,\n",
    "        user = DB_USER, password = DB_PASSWORD)\n",
    "\n",
    "def get_db():\n",
    "    if \"db\" not in g:\n",
    "        g.db = psycopg2.connect(user = current_app.config['DB_USER'],\n",
    "                password = current_app.config['DB_PASSWORD'],\n",
    "                host = DB_HOST,\n",
    "            dbname = current_app.config['DATABASE'])\n",
    "    return g.db\n",
    "```"
   ]
  },
  {
   "cell_type": "markdown",
   "metadata": {},
   "source": [
    "2. Connecting on AWS"
   ]
  },
  {
   "cell_type": "markdown",
   "metadata": {},
   "source": [
    "A. Get the Flask Code Running\n",
    "\n",
    "\n",
    "* We will have to change the `run.py` file so that we are running on the correct host and port.  \n",
    "\n",
    "\n",
    "B. Setup the EC2 machine\n",
    "\n",
    "* Next create a new EC2 instance, and make sure the security group is setup properly.\n",
    "\n",
    "* Then `scp` the code over to the running EC2 instance, or create a new EC2 instance if one is not available.\n",
    "\n",
    "* Then ssh into the ec2 machine and install the packages in the `requirements.txt`\n",
    "\n",
    "* If you did not already, create a tmux session.\n",
    "\n",
    "`tmux attach-session -t flask_lab`\n",
    "\n",
    "* Connect to the instance, create a new tmux session, and boot up the flask app with a call to `sudo python3 run.py`.  Detach from the tmux session, and confirm that we our application works by making a request (via HTTP not HTTPS in the browser).\n",
    "    \n",
    "**Note**: If you **cannot connect**, check the security group associated with the EC2 machine and make sure that port 80 is publicly available."
   ]
  },
  {
   "cell_type": "markdown",
   "metadata": {},
   "source": [
    "Our flask application should be able to connect to the database without breaking (there just won't be any data in there)."
   ]
  },
  {
   "cell_type": "markdown",
   "metadata": {},
   "source": [
    "<img src=\"./venues_from_ec2.png\" width=\"80%\">"
   ]
  },
  {
   "cell_type": "markdown",
   "metadata": {},
   "source": [
    "### Adding some data"
   ]
  },
  {
   "cell_type": "markdown",
   "metadata": {},
   "source": [
    "Let's pull down some venues into our production database by using our application code to connect to the foursquare API and filling our database with venue records.  \n",
    "\n",
    "> We can do this by again sshing into our EC2 instance and this time running:"
   ]
  },
  {
   "cell_type": "markdown",
   "metadata": {},
   "source": [
    "> `sudo python3 manage.py build_venues \"40.7,-74\" \"tacos\"`"
   ]
  },
  {
   "cell_type": "markdown",
   "metadata": {},
   "source": [
    "This uses the command defined in the manage.py file.  Refreshing the venues url from our api, we should see the following."
   ]
  },
  {
   "cell_type": "markdown",
   "metadata": {},
   "source": [
    "<img src=\"./production_venues_filled.png\" width=\"80%\">"
   ]
  },
  {
   "cell_type": "markdown",
   "metadata": {},
   "source": [
    "### Summary"
   ]
  },
  {
   "cell_type": "markdown",
   "metadata": {},
   "source": [
    "In this lesson, we connected our application to our production database.  The key steps were to create our RDS instance while making our RDS instance publicly accessible.  Then we need to configure our RDS instance with the master username, password.  This along with the RDS ip address, allowed us to connect to our instance create our production database and run our migration files.\n",
    "\n",
    "We then change our username, password, and host address in our `.env` file to our flask application reference the correct database in production.  We updated the code on our EC2 instance, and re-ran our flask application with in tmux.  Then after getting this working, we used our cli command to populate our database.  "
   ]
  }
 ],
 "metadata": {
  "kernelspec": {
   "display_name": "Python 3 (ipykernel)",
   "language": "python",
   "name": "python3"
  },
  "language_info": {
   "codemirror_mode": {
    "name": "ipython",
    "version": 3
   },
   "file_extension": ".py",
   "mimetype": "text/x-python",
   "name": "python",
   "nbconvert_exporter": "python",
   "pygments_lexer": "ipython3",
   "version": "3.10.13"
  }
 },
 "nbformat": 4,
 "nbformat_minor": 4
}
