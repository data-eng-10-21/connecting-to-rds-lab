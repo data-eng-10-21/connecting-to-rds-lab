{
 "cells": [
  {
   "cell_type": "markdown",
   "metadata": {},
   "source": [
    "# Connecting to Postgres Lab"
   ]
  },
  {
   "cell_type": "markdown",
   "metadata": {},
   "source": [
    "### Introduction"
   ]
  },
  {
   "cell_type": "markdown",
   "metadata": {},
   "source": [
    "In this lesson, we'll setup an RDS instance and use it to serve as the database for our foursquare flask api.  Let's get started."
   ]
  },
  {
   "cell_type": "markdown",
   "metadata": {},
   "source": [
    "### Setting it up"
   ]
  },
  {
   "cell_type": "markdown",
   "metadata": {},
   "source": [
    "* We should begin by going to the AWS console, finding the RDS service, and creating a new database.  \n",
    "* Then select the postgres database, and the free tier.\n",
    "* From here, it's time to add in the settings for the database.  Choose an instance identifier of `foursquare-flask-api`.  And set a master username and password.  \n",
    "\n",
    "> **Note**: Make sure to write down these values as we'll need them to connect to our database later."
   ]
  },
  {
   "cell_type": "markdown",
   "metadata": {},
   "source": [
    "* Then, under connectivity make sure that there is public access to the database.  \n",
    "\n",
    "> This will allow us to access the database with just the ip address, username, and password."
   ]
  },
  {
   "cell_type": "markdown",
   "metadata": {},
   "source": [
    "* After checking that the configuration is correct, create the database."
   ]
  },
  {
   "cell_type": "markdown",
   "metadata": {},
   "source": [
    "### Checking our Work"
   ]
  },
  {
   "cell_type": "markdown",
   "metadata": {},
   "source": [
    "Go to the dashboard and click on the foursquare-flask-api.  While it is still just creating, we will be able to see the settings of the database instance."
   ]
  },
  {
   "cell_type": "markdown",
   "metadata": {},
   "source": [
    "<img src=\"./foursquare_flask_api.png\" width=\"100%\">"
   ]
  },
  {
   "cell_type": "markdown",
   "metadata": {},
   "source": [
    "If we click on it, we'll see the following."
   ]
  },
  {
   "cell_type": "markdown",
   "metadata": {},
   "source": [
    "<img src=\"./foursquare_api.png\" width=\"100%\">"
   ]
  },
  {
   "cell_type": "markdown",
   "metadata": {},
   "source": [
    "### Connecting to our instance"
   ]
  },
  {
   "cell_type": "markdown",
   "metadata": {},
   "source": [
    "Now let's connect to our instance and create a database called `foursquare_production`.\n",
    "\n",
    "Once connected, listing the databases and we should see the following."
   ]
  },
  {
   "cell_type": "markdown",
   "metadata": {},
   "source": [
    "<img src='./listing_databases.png' width=\"80%\">"
   ]
  },
  {
   "cell_type": "markdown",
   "metadata": {},
   "source": [
    "From there, we can run migrations to create the production tables.  \n",
    "\n",
    "> We can use the same `psql` command we normally do to run migrations, just this time specify a `--host` parameter along with the file, and the database with `-d`.  The host parameter will be the public ip address for the database."
   ]
  },
  {
   "cell_type": "markdown",
   "metadata": {},
   "source": [
    "If you run the following from the shell, filling in the value for the host, you can check that the tables were created."
   ]
  },
  {
   "cell_type": "markdown",
   "metadata": {},
   "source": [
    "`psql -U postgres -d foursquare_production --host=specify_host -c \"\\dt\"`"
   ]
  },
  {
   "cell_type": "markdown",
   "metadata": {},
   "source": [
    "<img src=\"./view_relations.png\" width=\"60%\">"
   ]
  },
  {
   "cell_type": "markdown",
   "metadata": {},
   "source": [
    "### Connecting our Application"
   ]
  },
  {
   "cell_type": "markdown",
   "metadata": {},
   "source": [
    "Ok, now let's connect our flask application to our production database.  We'll do this in two steps.  First, we'll first make the change locally and check that it's working.  And then we'll apply the change to our Flask API running on the EC2 instance.\n",
    "\n",
    "1. Making the Change Locally\n",
    "\n",
    "To connect our local flask application to the production database.  We need to change our environmental variables.  Remember that our environmental variables are stored in the `.env` file.  We can change those values locally, and run our application locally to that we are connected to the RDS instance."
   ]
  },
  {
   "cell_type": "markdown",
   "metadata": {},
   "source": [
    "> Run the application using a port of `0.0.0.0`."
   ]
  },
  {
   "cell_type": "markdown",
   "metadata": {},
   "source": [
    "> If you visit the venues resource, we should see the following."
   ]
  },
  {
   "cell_type": "markdown",
   "metadata": {},
   "source": [
    "<img src=\"./venues.png\" width=\"80%\">"
   ]
  },
  {
   "cell_type": "markdown",
   "metadata": {},
   "source": [
    "This is great, as we are now connected to our database on AWS."
   ]
  },
  {
   "cell_type": "markdown",
   "metadata": {},
   "source": [
    "2. Connecting on AWS"
   ]
  },
  {
   "cell_type": "markdown",
   "metadata": {},
   "source": [
    "A. Get the Flask Code Running\n",
    "\n",
    "* **Planning**\n",
    "Now with connecting our database to our code on AWS, we mean our foursquare-flask-api.  Now if we do not have the `foursquare-flask-api` running on AWS, we can move the code over to an appropriate instance, and then try to get it running without a database, and later with a database.\n",
    "\n",
    "\n",
    "a. Deploy to EC2 without a database\n",
    "\n",
    "Without a connection to the database, we can boot up the code to make sure it's working properly, but will need to first make a a couple of changes.  \n",
    "\n",
    "In the `backend/api/src/__init__.py`, we can find the following lines:\n",
    "\n",
    "```python\n",
    "from flask import Flask\n",
    "import simplejson as json\n",
    "from flask import request\n",
    "\n",
    "import api.src.models as models\n",
    "import api.src.db as db\n",
    "```\n",
    "\n",
    "The bottom two lines, beginning with api.src both rely on the database. Delete those two lines.\n",
    "\n",
    "```python\n",
    "import api.src.models as models\n",
    "import api.src.db as db\n",
    "```\n",
    "\n",
    "* We will also have to change the `run.py` file so that we are running on the correct host and port.  \n",
    "* Ok, then `scp` the code over to the running EC2 instance, or create a new EC2 instance if one is not available.\n",
    "\n",
    "* Connect to the instance, create a new tmux session, and boot up the flask app with a call to `sudo python3 run.py`.  Detach from the tmux session, and confirm that we our application works by making a request (via HTTP not HTTPS in the browser)."
   ]
  },
  {
   "cell_type": "markdown",
   "metadata": {},
   "source": [
    "2. Connect to the correct database"
   ]
  },
  {
   "cell_type": "markdown",
   "metadata": {},
   "source": [
    "* Ok, now perhaps the first change we should make is to add back in the lines of code we deleted previously, so that our `backend/api/src/__init__.py` file looks like the following:\n",
    "\n",
    "```python\n",
    "from flask import Flask\n",
    "import simplejson as json\n",
    "from flask import request\n",
    "\n",
    "import api.src.models as models\n",
    "import api.src.db as db\n",
    "```\n",
    "\n",
    "> Either make this change by using vim or make the change locally and copy the code over to the backend.\n",
    "\n",
    "* Next it's time to make the change to the `.env` file that we made locally onto our AWS EC2 instance.  Let's find the public ip address, remove the existing `.env` file and use `scp` to replace it with the updated `.env` file.  "
   ]
  },
  {
   "cell_type": "markdown",
   "metadata": {},
   "source": [
    "Then `ssh` into the AWS machine and confirm that the `.env` file has been properly updated."
   ]
  },
  {
   "cell_type": "markdown",
   "metadata": {},
   "source": [
    ">Run `cat backend/.env` to check that the changes have been made."
   ]
  },
  {
   "cell_type": "markdown",
   "metadata": {},
   "source": [
    "If the `.env` file has been properly updated, then attach to the session that is running the flask application."
   ]
  },
  {
   "cell_type": "markdown",
   "metadata": {},
   "source": [
    "`tmux attach-session -t flask_lab`"
   ]
  },
  {
   "cell_type": "markdown",
   "metadata": {},
   "source": [
    "And then shutdown and rerun the flask application with host `0.0.0.0` and port `80`.  Our flask application should now be able to connect to the database without breaking (there just won't be any data in there)."
   ]
  },
  {
   "cell_type": "markdown",
   "metadata": {},
   "source": [
    "<img src=\"./venues_from_ec2.png\" width=\"80%\">"
   ]
  },
  {
   "cell_type": "markdown",
   "metadata": {},
   "source": [
    "### Adding some data"
   ]
  },
  {
   "cell_type": "markdown",
   "metadata": {},
   "source": [
    "Let's pull down some venues into our production database by using our application code to connect to the foursquare API and filling our database with venue records.  \n",
    "\n",
    "> We can do this by again sshing into our EC2 instance and this time running:"
   ]
  },
  {
   "cell_type": "markdown",
   "metadata": {},
   "source": [
    "> `sudo python3 manage.py build_venues \"40.7,-74\" \"tacos\"`"
   ]
  },
  {
   "cell_type": "markdown",
   "metadata": {},
   "source": [
    "This uses the command defined in the manage.py file.  Refreshing the venues url from our api, we should see the following."
   ]
  },
  {
   "cell_type": "markdown",
   "metadata": {},
   "source": [
    "<img src=\"./production_venues_filled.png\" width=\"80%\">"
   ]
  },
  {
   "cell_type": "markdown",
   "metadata": {},
   "source": [
    "### Summary"
   ]
  },
  {
   "cell_type": "markdown",
   "metadata": {},
   "source": [
    "In this lesson, we connected our application to our production database.  The key steps were to create our RDS instance while making our RDS instance publicly accessible.  Then we need to configure our RDS instance with the master username, password.  This along with the RDS ip address, allowed us to connect to our instance create our production database and run our migration files.\n",
    "\n",
    "We then change our username, password, and host address in our `.env` file to our flask application reference the correct database in production.  We updated the code on our EC2 instance, and re-ran our flask application with in tmux.  Then after getting this working, we used our cli command to populate our database.  "
   ]
  }
 ],
 "metadata": {
  "kernelspec": {
   "display_name": "Python 3",
   "language": "python",
   "name": "python3"
  },
  "language_info": {
   "codemirror_mode": {
    "name": "ipython",
    "version": 3
   },
   "file_extension": ".py",
   "mimetype": "text/x-python",
   "name": "python",
   "nbconvert_exporter": "python",
   "pygments_lexer": "ipython3",
   "version": "3.8.6"
  }
 },
 "nbformat": 4,
 "nbformat_minor": 4
}
