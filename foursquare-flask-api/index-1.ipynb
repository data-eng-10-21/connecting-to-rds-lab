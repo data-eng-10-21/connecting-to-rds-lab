{
 "cells": [
  {
   "cell_type": "markdown",
   "metadata": {},
   "source": [
    "# Flask with Config"
   ]
  },
  {
   "cell_type": "markdown",
   "metadata": {},
   "source": [
    "### Introduction"
   ]
  },
  {
   "cell_type": "markdown",
   "metadata": {},
   "source": [
    "Now to setup flask with tests, we need to change some of the ways that we setup the application.  The complicated becomes fairly complicated, but luckily we do not need to fully understand all of it, as the setup is the same from application to application.  Still, let's spend some time walking through it."
   ]
  },
  {
   "cell_type": "markdown",
   "metadata": {},
   "source": [
    "### Enabling Different Configuration"
   ]
  },
  {
   "cell_type": "markdown",
   "metadata": {},
   "source": [
    "The main difference that occurs when we run tests is that our configuration of our Flask application is depending on whether we are running tests, working with the application in development mode on our computer, or in production mode when our application is deployed.  \n",
    "\n",
    "> By configuration we mean, for example, the database that the application is connected to (test or development) but also if the application is in debug mode, or testing mode, which makes it easier to read error messages in the application.  "
   ]
  },
  {
   "cell_type": "markdown",
   "metadata": {},
   "source": [
    "Let's stake a look at the way that we can configure a flask application."
   ]
  },
  {
   "cell_type": "code",
   "execution_count": 1,
   "metadata": {},
   "outputs": [],
   "source": [
    "from flask import Flask\n",
    "app = Flask(__name__)"
   ]
  },
  {
   "cell_type": "code",
   "execution_count": 2,
   "metadata": {},
   "outputs": [
    {
     "data": {
      "text/plain": [
       "<Config {'ENV': 'production', 'DEBUG': False, 'TESTING': False, 'PROPAGATE_EXCEPTIONS': None, 'PRESERVE_CONTEXT_ON_EXCEPTION': None, 'SECRET_KEY': None, 'PERMANENT_SESSION_LIFETIME': datetime.timedelta(days=31), 'USE_X_SENDFILE': False, 'SERVER_NAME': None, 'APPLICATION_ROOT': '/', 'SESSION_COOKIE_NAME': 'session', 'SESSION_COOKIE_DOMAIN': None, 'SESSION_COOKIE_PATH': None, 'SESSION_COOKIE_HTTPONLY': True, 'SESSION_COOKIE_SECURE': False, 'SESSION_COOKIE_SAMESITE': None, 'SESSION_REFRESH_EACH_REQUEST': True, 'MAX_CONTENT_LENGTH': None, 'SEND_FILE_MAX_AGE_DEFAULT': datetime.timedelta(seconds=43200), 'TRAP_BAD_REQUEST_ERRORS': None, 'TRAP_HTTP_EXCEPTIONS': False, 'EXPLAIN_TEMPLATE_LOADING': False, 'PREFERRED_URL_SCHEME': 'http', 'JSON_AS_ASCII': True, 'JSON_SORT_KEYS': True, 'JSONIFY_PRETTYPRINT_REGULAR': False, 'JSONIFY_MIMETYPE': 'application/json', 'TEMPLATES_AUTO_RELOAD': None, 'MAX_COOKIE_SIZE': 4093}>"
      ]
     },
     "execution_count": 2,
     "metadata": {},
     "output_type": "execute_result"
    }
   ],
   "source": [
    "app.config"
   ]
  },
  {
   "cell_type": "markdown",
   "metadata": {},
   "source": [
    "We can see tha tconfig is essentially a dictionary that allows us to specify different options about the environment, and behavior of the application.  For us, we'll mainly work with `DEBUG`, `TESTING` and `DATABASE` keys."
   ]
  },
  {
   "cell_type": "markdown",
   "metadata": {},
   "source": [
    "For example, when we are about to run our tests, we can set this configuration with the following:"
   ]
  },
  {
   "cell_type": "code",
   "execution_count": 3,
   "metadata": {},
   "outputs": [
    {
     "data": {
      "text/plain": [
       "True"
      ]
     },
     "execution_count": 3,
     "metadata": {},
     "output_type": "execute_result"
    }
   ],
   "source": [
    "app.config.from_mapping(\n",
    "        DATABASE='skuawk_test',\n",
    "        DEBUG = True,\n",
    "        TESTING = True\n",
    "    )"
   ]
  },
  {
   "cell_type": "markdown",
   "metadata": {},
   "source": [
    "And now when we look at those specific configuration values, we can see that they are set. "
   ]
  },
  {
   "cell_type": "code",
   "execution_count": 6,
   "metadata": {},
   "outputs": [
    {
     "data": {
      "text/plain": [
       "('skuawk_test', True, True)"
      ]
     },
     "execution_count": 6,
     "metadata": {},
     "output_type": "execute_result"
    }
   ],
   "source": [
    "app.config[\"DATABASE\"], app.config[\"DEBUG\"], app.config[\"TESTING\"]"
   ]
  },
  {
   "cell_type": "markdown",
   "metadata": {},
   "source": [
    "In development, we'll want our application to be created with a different configuration -- where the database connects to development and testing is set to false."
   ]
  },
  {
   "cell_type": "markdown",
   "metadata": {},
   "source": [
    "To ease creation of our flask app, we can write a function that will, create, configure and return our flask app.  Here it is:"
   ]
  },
  {
   "cell_type": "code",
   "execution_count": 8,
   "metadata": {},
   "outputs": [],
   "source": [
    "def create_app(database='squawk_development', testing = False, debug = True):\n",
    "    \"\"\"Create and configure an instance of the Flask application.\"\"\"\n",
    "    app = Flask(__name__)\n",
    "    app.config.from_mapping(\n",
    "        DATABASE=database,\n",
    "        DEBUG = debug,\n",
    "        TESTING = testing\n",
    "    )\n",
    "    return app"
   ]
  },
  {
   "cell_type": "markdown",
   "metadata": {},
   "source": [
    "So now we can create an app for development just by calling `create_app`, and can create an application for our tests, by calling `create_app` with the following arguments."
   ]
  },
  {
   "cell_type": "code",
   "execution_count": 9,
   "metadata": {},
   "outputs": [],
   "source": [
    "app = create_app(database='squawk_test', testing = True)"
   ]
  },
  {
   "cell_type": "code",
   "execution_count": 10,
   "metadata": {},
   "outputs": [
    {
     "data": {
      "text/plain": [
       "'squawk_test'"
      ]
     },
     "execution_count": 10,
     "metadata": {},
     "output_type": "execute_result"
    }
   ],
   "source": [
    "app.config['DATABASE']"
   ]
  },
  {
   "cell_type": "markdown",
   "metadata": {},
   "source": [
    "Now there is still one problem that we have, and that is that our app knows absolutely nothing about any routes that we set up."
   ]
  },
  {
   "cell_type": "code",
   "execution_count": 14,
   "metadata": {},
   "outputs": [
    {
     "data": {
      "text/plain": [
       "Map([<Rule '/static/<filename>' (GET, OPTIONS, HEAD) -> static>])"
      ]
     },
     "execution_count": 14,
     "metadata": {},
     "output_type": "execute_result"
    }
   ],
   "source": [
    "app.url_map"
   ]
  },
  {
   "cell_type": "markdown",
   "metadata": {},
   "source": [
    "We want our create_app function to return a flask app that is setup and ready to go, so we actually define our routes inside the `create_app` function.  We can do so with the following:"
   ]
  },
  {
   "cell_type": "code",
   "execution_count": 15,
   "metadata": {},
   "outputs": [],
   "source": [
    "def create_app(database='squawk_development', testing = False, debug = True):\n",
    "    \"\"\"Create and configure an instance of the Flask application.\"\"\"\n",
    "    app = Flask(__name__)\n",
    "    app.config.from_mapping(\n",
    "        DATABASE=database,\n",
    "        DEBUG = debug,\n",
    "        TESTING = testing\n",
    "    )\n",
    "    \n",
    "    @app.route('/')\n",
    "    def root_url():\n",
    "        return 'Welcome to squawk'\n",
    "\n",
    "    @app.route('/restaurants')\n",
    "    def restaurants():\n",
    "        conn = get_db()\n",
    "        cursor = conn.cursor()\n",
    "        cursor.execute('SELECT * FROM restaurants;')\n",
    "        records = cursor.fetchall()\n",
    "        return json.dumps(records, default = str)\n",
    "\n",
    "    @app.route('/restaurants/<id>')\n",
    "    def restaurant(id):\n",
    "        conn = get_db()\n",
    "        cursor = conn.cursor()\n",
    "        cursor.execute('SELECT * FROM restaurants WHERE id = %s;', (id,))\n",
    "        records = cursor.fetchall()\n",
    "        return json.dumps(records, default = str)\n",
    "\n",
    "    return app"
   ]
  },
  {
   "cell_type": "markdown",
   "metadata": {},
   "source": [
    "So now when we create our application, our routes should be attached."
   ]
  },
  {
   "cell_type": "code",
   "execution_count": 16,
   "metadata": {},
   "outputs": [],
   "source": [
    "app = create_app(database='squawk_test', testing = True)"
   ]
  },
  {
   "cell_type": "code",
   "execution_count": 17,
   "metadata": {},
   "outputs": [
    {
     "data": {
      "text/plain": [
       "Map([<Rule '/restaurants' (GET, OPTIONS, HEAD) -> restaurants>,\n",
       " <Rule '/' (GET, OPTIONS, HEAD) -> root_url>,\n",
       " <Rule '/restaurants/<id>' (GET, OPTIONS, HEAD) -> restaurant>,\n",
       " <Rule '/static/<filename>' (GET, OPTIONS, HEAD) -> static>])"
      ]
     },
     "execution_count": 17,
     "metadata": {},
     "output_type": "execute_result"
    }
   ],
   "source": [
    "app.url_map"
   ]
  },
  {
   "cell_type": "markdown",
   "metadata": {},
   "source": [
    "Nice how that works."
   ]
  },
  {
   "cell_type": "markdown",
   "metadata": {},
   "source": [
    "If you look through the application, you'll notice that we moved the `create_app` function to the `src/__init__` file, and then if we want to run the application, we call the `run.py` file.  \n",
    "\n",
    "That file simply creates a new flask application, and then runs `app.run`.\n",
    "\n",
    "```python\n",
    "from src import create_app\n",
    "\n",
    "app = create_app()\n",
    "app.run(debug = True)\n",
    "```"
   ]
  },
  {
   "cell_type": "markdown",
   "metadata": {},
   "source": [
    "### Connecting to the Database"
   ]
  },
  {
   "cell_type": "markdown",
   "metadata": {},
   "source": [
    "The other new function that we have is the `get_db` function, defined in the `db.py` file.  Remember that every time we hit a new route, we made a new connection to the database.  \n",
    "\n",
    "When we call the `get_db` function, we initialize a new connection to the database with the following: \n",
    "\n",
    "```python\n",
    "\n",
    "from flask import current_app\n",
    "\n",
    "#  The real function is slightly more complicated\n",
    "def get_db():\n",
    "    db = psycopg2.connect(user = 'postgres', password = 'postgres',\n",
    "            dbname = current_app.config['DATABASE'])\n",
    "    return db\n",
    "```"
   ]
  },
  {
   "cell_type": "markdown",
   "metadata": {},
   "source": [
    "Notice that this function, connects to the database by looking at the `current_app`'s configuration.  So when we initialize our app with our test database, this will connect to `squawk_test`, and when we initialize our app with our development database (as in the `run.py` file), this will connect to the `squawk_development`.\n",
    "\n",
    "So now that we have our `get_db` function, we call `get_db` in each of the routes (look in the `create_app` function above), and then get the cursor from there.\n",
    "\n",
    "> Also note that we have a `close_db` function, that closes the connection to the database.  In the tests we are careful to close connections between database calls, to avoid weird errors where our tests hang, and do not complete."
   ]
  },
  {
   "cell_type": "markdown",
   "metadata": {},
   "source": [
    "### Final Changes"
   ]
  },
  {
   "cell_type": "markdown",
   "metadata": {},
   "source": [
    "Now there is one last change in our routes that we have there, and that is a switch from jsonify to `json.dumps(records, default = str)`.  This is because of some limitations with jsonify.  It has issues converting timestamps, and type decimals, which we get back from our database to json.  If we use the `json.dumps(records, default = str)`, these issues are avoided."
   ]
  },
  {
   "cell_type": "markdown",
   "metadata": {},
   "source": [
    "### Summary"
   ]
  },
  {
   "cell_type": "markdown",
   "metadata": {},
   "source": [
    "In this lesson, we saw how we can get our flask application to play nicely with our tests.  Doing so meant that we needed some easy ways to create instances of our flask app with different configurations.  To that end, we defined a `create_app` function that allowed for us to create an app with different configuration.  In that function, we also declare our routes for our application.  \n",
    "\n",
    "We also defined a `get_db` function to ease the retrieval of our database.  This function looks to the database specified in the configuration of our flask app, and returns a connection to that database.\n",
    "\n",
    "Finally, we moved over to the `json.dumps(records, default = str)` function, coming from the simplejson library, so that we can convert datetimes and decimals to json."
   ]
  },
  {
   "cell_type": "markdown",
   "metadata": {},
   "source": [
    "### Resources\n",
    "\n",
    "[Flask Config](https://flask.palletsprojects.com/en/1.1.x/config/)"
   ]
  }
 ],
 "metadata": {
  "kernelspec": {
   "display_name": "Python 3",
   "language": "python",
   "name": "python3"
  },
  "language_info": {
   "codemirror_mode": {
    "name": "ipython",
    "version": 3
   },
   "file_extension": ".py",
   "mimetype": "text/x-python",
   "name": "python",
   "nbconvert_exporter": "python",
   "pygments_lexer": "ipython3",
   "version": "3.8.3"
  }
 },
 "nbformat": 4,
 "nbformat_minor": 4
}
